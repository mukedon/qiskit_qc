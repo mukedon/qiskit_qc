{
 "cells": [
  {
   "cell_type": "code",
   "execution_count": null,
   "id": "853f5c0c",
   "metadata": {},
   "outputs": [],
   "source": [
    "from qiskit_ibm_runtime import QiskitRuntimeService\n",
    "  "
   ]
  },
  {
   "cell_type": "code",
   "execution_count": null,
   "id": "4fa39d80",
   "metadata": {},
   "outputs": [],
   "source": [
    "service = QiskitRuntimeService.save_account(\n",
    "    token=token, # Your token is confidential.\n",
    "    # Do not share your key in public code.\n",
    "    instance=\"<IBM Cloud CRN or instance name>\", # Optionally specify the instance to use.\n",
    "    plans_preference=\"['plan-type1', 'plan-type2']\", # Optionally set the types of plans to prioritize.  This is ignored if the instance is specified.\n",
    "    region=\"<region>\", # Optionally set the region to prioritize. This is ignored if the instance is specified.\n",
    "    name=\"<account-name>\", # Optionally name this set of account credentials.\n",
    "    set_as_default=True, # Optionally set these as your default credentials.\n",
    "  )"
   ]
  }
 ],
 "metadata": {
  "language_info": {
   "name": "python"
  }
 },
 "nbformat": 4,
 "nbformat_minor": 5
}
