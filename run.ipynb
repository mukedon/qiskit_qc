{
 "cells": [
  {
   "cell_type": "code",
   "execution_count": 39,
   "metadata": {},
   "outputs": [],
   "source": [
    "from qiskit_aer import Aer\n",
    "from qiskit_ibm_runtime import QiskitRuntimeService\n",
    "from qiskit.visualization import plot_histogram\n",
    "from qiskit import QuantumCircuit, transpile\n",
    "from qiskit.quantum_info import Statevector, Operator\n",
    "import pylatexenc\n",
    "import sympy\n",
    "import numpy as np"
   ]
  },
  {
   "cell_type": "code",
   "execution_count": 2,
   "metadata": {},
   "outputs": [],
   "source": [
    "def get_service():\n",
    "    try:\n",
    "        # Try to instantiate service (will fail if no token saved or token is invalid)\n",
    "        return QiskitRuntimeService()\n",
    "    except Exception as e:\n",
    "        print(f\"Error: {e}\")\n",
    "        # Ask user if they want to renew their local credentials\n",
    "        renew = input(\"Your IBM Quantum credentials are invalid or missing. Do you want to renew them? (y/n): \").strip().lower()\n",
    "        if renew == \"y\":\n",
    "            try:\n",
    "                QiskitRuntimeService.delete_account()\n",
    "                print(\"Old local credentials deleted.\")\n",
    "            except Exception as del_e:\n",
    "                print(f\"Could not delete old credentials (maybe none existed): {del_e}\")\n",
    "            token = input(\"Enter your new IBM Quantum API token: \").strip()\n",
    "            instance = input(\"Enter your instance: \").strip()\n",
    "            QiskitRuntimeService.save_account(token=token, instance=instance, overwrite=True)\n",
    "            return QiskitRuntimeService()\n",
    "        else:\n",
    "            raise RuntimeError(\"IBM Quantum credentials are required to proceed.\")"
   ]
  },
  {
   "cell_type": "code",
   "execution_count": 3,
   "metadata": {},
   "outputs": [],
   "source": [
    "# Use the function to get the service\n",
    "service = get_service()"
   ]
  },
  {
   "cell_type": "code",
   "execution_count": 5,
   "metadata": {},
   "outputs": [
    {
     "name": "stdout",
     "output_type": "stream",
     "text": [
      "Number of qubits: 127\n",
      "Backend properties: <qiskit_ibm_runtime.models.backend_properties.BackendProperties object at 0x000001BFCDAD1D10>\n",
      "Backend status: <qiskit_ibm_runtime.models.backend_status.BackendStatus object at 0x000001BFCD4457D0>\n",
      "Faulty qubits: []\n"
     ]
    }
   ],
   "source": [
    "# Now you can use the service as usual\n",
    "backend = service.backend(name='ibm_brisbane')\n",
    "print(\"Number of qubits:\", backend.num_qubits)\n",
    "print(\"Backend properties:\", backend.properties())\n",
    "print(\"Backend status:\", backend.status())\n",
    "# Print faulty qubits (if any)\n",
    "faulty_qubits = []\n",
    "properties = backend.properties()\n",
    "for qubit_index, qubit in enumerate(properties.qubits):\n",
    "    for item in qubit:\n",
    "        if item.name == 'T1' and item.value is None:\n",
    "            faulty_qubits.append(qubit_index)\n",
    "print(\"Faulty qubits:\", faulty_qubits)"
   ]
  },
  {
   "cell_type": "code",
   "execution_count": 36,
   "metadata": {},
   "outputs": [
    {
     "name": "stdout",
     "output_type": "stream",
     "text": [
      "[<Qubit register=(2, \"q\"), index=0>, <Qubit register=(2, \"q\"), index=1>]\n",
      "[CircuitInstruction(operation=Instruction(name='h', num_qubits=1, num_clbits=0, params=[]), qubits=(<Qubit register=(2, \"q\"), index=0>,), clbits=()), CircuitInstruction(operation=Instruction(name='cx', num_qubits=2, num_clbits=0, params=[]), qubits=(<Qubit register=(2, \"q\"), index=0>, <Qubit register=(2, \"q\"), index=1>), clbits=()), CircuitInstruction(operation=Instruction(name='x', num_qubits=1, num_clbits=0, params=[]), qubits=(<Qubit register=(2, \"q\"), index=1>,), clbits=())]\n"
     ]
    },
    {
     "data": {
      "image/png": "[encoded data removed]",
      "text/plain": [
       "<Figure size 370.906x200.667 with 1 Axes>"
      ]
     },
     "execution_count": 36,
     "metadata": {},
     "output_type": "execute_result"
    }
   ],
   "source": [
    "# Create a new circuit with two qubits\n",
    "qc = QuantumCircuit(2)\n",
    "# Add a Hadamard gate to qubit 0\n",
    "qc.h(0)\n",
    "# Perform a controlled-X gate on qubit 1, controlled by qubit 0\n",
    "qc.cx(0, 1)\n",
    "# this system is made from 2 qubits, so the circuit is 4x4, a kronocker product of 2x2 matrices\n",
    "# and the circuit is a 4x4 matrix\n",
    "\n",
    "print(qc.qubits)\n",
    "qc.x(1)  # Add X-gate to qubit 1\n",
    "print(qc.data)\n",
    "\n",
    "qc.draw(\"mpl\")"
   ]
  },
  {
   "cell_type": "code",
   "execution_count": 37,
   "metadata": {},
   "outputs": [
    {
     "data": {
      "image/png": "[encoded data removed]",
      "text/plain": [
       "<Figure size 185.453x117.056 with 1 Axes>"
      ]
     },
     "execution_count": 37,
     "metadata": {},
     "output_type": "execute_result"
    }
   ],
   "source": [
    "# Draw definition circuit of 0th instruction in `qc`\n",
    "qc.data[0].operation.definition.draw(\"mpl\")"
   ]
  },
  {
   "cell_type": "code",
   "execution_count": 22,
   "metadata": {},
   "outputs": [
    {
     "data": {
      "text/latex": [
       "$$\\frac{1}{2} |00\\rangle- \\frac{i}{2} |01\\rangle+\\frac{1}{2} |10\\rangle- \\frac{i}{2} |11\\rangle$$"
      ],
      "text/plain": [
       "<IPython.core.display.Latex object>"
      ]
     },
     "metadata": {},
     "output_type": "display_data"
    }
   ],
   "source": [
    "# Tensor products (from IBM Quantum documentation)\n",
    "\n",
    "zero = Statevector.from_label(\"0\")\n",
    "one = Statevector.from_label(\"1\")\n",
    "psi = zero.tensor(one)\n",
    "\n",
    "plus = Statevector.from_label(\"+\")\n",
    "minus_i = Statevector.from_label(\"l\")\n",
    "phi = plus.tensor(minus_i)\n",
    "display(phi.draw(\"latex\")) # or display((plus ^ minus_i).draw(\"latex\"))"
   ]
  },
  {
   "cell_type": "code",
   "execution_count": 23,
   "metadata": {},
   "outputs": [
    {
     "data": {
      "text/latex": [
       "$$\n",
       "\n",
       "\\begin{bmatrix}\n",
       "\\frac{\\sqrt{2}}{2} & 0 & \\frac{\\sqrt{2}}{2} & 0  \\\\\n",
       " 0 & \\frac{\\sqrt{2}}{2} & 0 & \\frac{\\sqrt{2}}{2}  \\\\\n",
       " \\frac{\\sqrt{2}}{2} & 0 & - \\frac{\\sqrt{2}}{2} & 0  \\\\\n",
       " 0 & \\frac{\\sqrt{2}}{2} & 0 & - \\frac{\\sqrt{2}}{2}  \\\\\n",
       " \\end{bmatrix}\n",
       "$$"
      ],
      "text/plain": [
       "<IPython.core.display.Latex object>"
      ]
     },
     "metadata": {},
     "output_type": "display_data"
    },
    {
     "data": {
      "text/latex": [
       "$$\n",
       "\n",
       "\\begin{bmatrix}\n",
       "0 & \\frac{\\sqrt{2}}{2} & 0 & 0 & 0 & \\frac{\\sqrt{2}}{2} & 0 & 0  \\\\\n",
       " \\frac{\\sqrt{2}}{2} & 0 & 0 & 0 & \\frac{\\sqrt{2}}{2} & 0 & 0 & 0  \\\\\n",
       " 0 & 0 & 0 & \\frac{\\sqrt{2}}{2} & 0 & 0 & 0 & \\frac{\\sqrt{2}}{2}  \\\\\n",
       " 0 & 0 & \\frac{\\sqrt{2}}{2} & 0 & 0 & 0 & \\frac{\\sqrt{2}}{2} & 0  \\\\\n",
       " 0 & \\frac{\\sqrt{2}}{2} & 0 & 0 & 0 & - \\frac{\\sqrt{2}}{2} & 0 & 0  \\\\\n",
       " \\frac{\\sqrt{2}}{2} & 0 & 0 & 0 & - \\frac{\\sqrt{2}}{2} & 0 & 0 & 0  \\\\\n",
       " 0 & 0 & 0 & \\frac{\\sqrt{2}}{2} & 0 & 0 & 0 & - \\frac{\\sqrt{2}}{2}  \\\\\n",
       " 0 & 0 & \\frac{\\sqrt{2}}{2} & 0 & 0 & 0 & - \\frac{\\sqrt{2}}{2} & 0  \\\\\n",
       " \\end{bmatrix}\n",
       "$$"
      ],
      "text/plain": [
       "<IPython.core.display.Latex object>"
      ]
     },
     "metadata": {},
     "output_type": "display_data"
    }
   ],
   "source": [
    "H = Operator.from_label(\"H\")\n",
    "I = Operator.from_label(\"I\")\n",
    "X = Operator.from_label(\"X\")\n",
    "display(H.tensor(I).draw(\"latex\"))\n",
    "display(H.tensor(I).tensor(X).draw(\"latex\"))"
   ]
  },
  {
   "cell_type": "code",
   "execution_count": 24,
   "metadata": {},
   "outputs": [],
   "source": [
    "def create_error_circuit(error_type=None):\n",
    "    qc = QuantumCircuit(2, 2)\n",
    "    \n",
    "    # Apply Hadamard gate to the first qubit\n",
    "    qc.h(0)\n",
    "    \n",
    "    # Apply a controlled-X gate\n",
    "    qc.cx(0, 1)\n",
    "    \n",
    "    # Introduce errors based on the specified error type\n",
    "    if error_type == 'depolarizing':\n",
    "        qc.rx(np.random.uniform(0, np.pi), 0)  # Random rotation on qubit 0\n",
    "        qc.rx(np.random.uniform(0, np.pi), 1)  # Random rotation on qubit 1\n",
    "    elif error_type == 'bit_flip':\n",
    "        qc.x(1)  # Bit flip on qubit 1\n",
    "    elif error_type == 'phase_flip':\n",
    "        qc.z(1)  # Phase flip on qubit 1\n",
    "    \n",
    "    # Measurement\n",
    "    qc.measure([0, 1], [0, 1])\n",
    "    \n",
    "    return qc\n",
    "\n",
    "def run_circuit(qc):\n",
    "    backend = Aer.get_backend('qasm_simulator')\n",
    "    transpiled_circuit = transpile(qc, backend)\n",
    "    job = execute(transpiled_circuit, backend, shots=1024)\n",
    "    result = job.result()\n",
    "    counts = result.get_counts(qc)\n",
    "    return counts"
   ]
  },
  {
   "cell_type": "code",
   "execution_count": 40,
   "metadata": {},
   "outputs": [
    {
     "data": {
      "image/png": "[encoded data removed]",
      "text/plain": [
       "<Figure size 1941.49x284.278 with 1 Axes>"
      ]
     },
     "execution_count": 40,
     "metadata": {},
     "output_type": "execute_result"
    }
   ],
   "source": [
    "from qiskit.circuit.library import zz_feature_map\n",
    " \n",
    "features = [0.2, 0.4, 0.8]\n",
    "feature_map = zz_feature_map(feature_dimension=len(features))\n",
    " \n",
    "encoded = feature_map.assign_parameters(features)\n",
    "encoded.draw(\"mpl\")"
   ]
  },
  {
   "cell_type": "code",
   "execution_count": 38,
   "metadata": {},
   "outputs": [
    {
     "name": "stdout",
     "output_type": "stream",
     "text": [
      "3\n",
      "22\n"
     ]
    }
   ],
   "source": [
    "# the depth of the circuit / execution time of the circuit\n",
    "print(qc.depth())\n",
    "print(encoded.depth())"
   ]
  }
 ],
 "metadata": {
  "kernelspec": {
   "display_name": ".venv",
   "language": "python",
   "name": "python3"
  },
  "language_info": {
   "codemirror_mode": {
    "name": "ipython",
    "version": 3
   },
   "file_extension": ".py",
   "mimetype": "text/x-python",
   "name": "python",
   "nbconvert_exporter": "python",
   "pygments_lexer": "ipython3",
   "version": "3.11.9"
  }
 },
 "nbformat": 4,
 "nbformat_minor": 2
}
